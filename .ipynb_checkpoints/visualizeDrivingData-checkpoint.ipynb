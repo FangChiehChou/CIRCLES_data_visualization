{
 "cells": [
  {
   "cell_type": "code",
   "execution_count": 2,
   "metadata": {},
   "outputs": [],
   "source": [
    "import csv\n",
    "import numpy as np\n",
    "import pandas as pd \n",
    "import copy\n",
    "\n",
    "%matplotlib notebook\n",
    "import matplotlib.pyplot as plt\n",
    "from matplotlib.animation import FuncAnimation"
   ]
  },
  {
   "cell_type": "code",
   "execution_count": 3,
   "metadata": {},
   "outputs": [],
   "source": [
    "#load data\n",
    "df = pd.read_csv(filepath_or_buffer=\"2020-07-08-15-15-54_2T3MWRFVXLW056972_CAN_Messages.csv\")\n",
    "sim_time = df[df.columns[0]]  # [s]\n",
    "accelx = df[df.columns[1]]  # [m/s^2]\n",
    "lead_distance = df[df.columns[2]] # [m]\n",
    "relative_vel = df[df.columns[3]]   # [m/s]\n",
    "speed = df[df.columns[4]]/3.6   # [m/s]"
   ]
  },
  {
   "cell_type": "code",
   "execution_count": null,
   "metadata": {},
   "outputs": [],
   "source": [
    "## init figure\n",
    "fig, ax = plt.subplots()\n",
    "cm = plt.cm.get_cmap('bwr')   #RdYlBu\n",
    "sc = plt.scatter([],[],c=[],vmin=-4.0, vmax=4.0, s=35, cmap=cm)\n",
    "cbar = plt.colorbar(sc)\n",
    "cbar.set_label('acceleration $[m/s^{2}]$', labelpad=20, rotation=270)"
   ]
  },
  {
   "cell_type": "code",
   "execution_count": 4,
   "metadata": {},
   "outputs": [],
   "source": [
    "# fuction for returning an array safety envelopes on 2D state space for a given speed\n",
    "def time_gap_FollowerStopper(speed,v_rel_list):\n",
    "    \n",
    "    h1 = 0.4\n",
    "    h2 = 1.2\n",
    "    h3 = 1.8\n",
    "    a1 = 1.5\n",
    "    a2 = 1.0\n",
    "    a3 = 0.5\n",
    "    w1 = 4.5\n",
    "    w2 = 5.25\n",
    "    w3 = 6.0\n",
    "\n",
    "    v_star = v_rel_list # min[0,v_rel]\n",
    "    v_star[v_star >0] = 0\n",
    "\n",
    "    v_star_square = np.multiply(v_star,v_star)\n",
    "\n",
    "    env1 = w1 + (0.5/a1)*v_star_square + h1 * speed\n",
    "    env2 = w2 + (0.5/a2)*v_star_square + h2 * speed\n",
    "    env3 = w3 + (0.5/a3)*v_star_square + h3 * speed\n",
    "\n",
    "    return env1, env2, env3"
   ]
  },
  {
   "cell_type": "code",
   "execution_count": 5,
   "metadata": {},
   "outputs": [],
   "source": [
    "def update(frame):\n",
    "\n",
    "    current_time = sim_time[frame]\n",
    "\n",
    "    ## last N driving data points\n",
    "    N = 10\n",
    "    init_index = max(frame-N, 0) \n",
    "    end_index = frame\n",
    "    temp_accel = accelx[init_index:end_index]\n",
    "    temp_rel_distance = lead_distance[init_index:end_index]\n",
    "    temp_rel_speed = relative_vel[init_index:end_index]\n",
    "  \n",
    "    ## safety envelopes of the FollowerStopper\n",
    "    temp_v = speed[frame]\n",
    "    v_rel_list = np.linspace(-10, 10, 100)\n",
    "    xdata = copy.deepcopy(v_rel_list)\n",
    "    env1, env2, env3 = time_gap_FollowerStopper(temp_v,v_rel_list)\n",
    "    \n",
    "    plt.cla()\n",
    "    plt.plot(xdata,env1,'k-')\n",
    "    plt.plot(xdata,env2,'k-')\n",
    "    plt.plot(xdata,env3,'k-')\n",
    "\n",
    "    ax.set_xlim(-10,10)\n",
    "    ax.set_ylim(0,80)\n",
    "    plt.xlabel(\"relative speed $[m/s]$\")\n",
    "    plt.ylabel(\"relative distance $[m]$\")\n",
    "    plt.grid(b=True)\n",
    "\n",
    "    plt.plot(temp_rel_speed,temp_rel_distance,'r-')\n",
    "    plt.scatter(temp_rel_speed,temp_rel_distance,c=temp_accel,vmin=-4.0, vmax=4.0, s=35, cmap=cm, edgecolor = 'k')\n",
    "\n",
    "\n",
    "    title = ax.text(0.5,0.85, \"\", bbox={'facecolor':'w', 'alpha':0.5, 'pad':5},\n",
    "                transform=ax.transAxes, ha=\"center\")\n",
    "    title.set_text(u\"Time = {0:.2f}, Speed = {1:.2f} $[m/s]$\".format(current_time,temp_v))   "
   ]
  },
  {
   "cell_type": "code",
   "execution_count": 6,
   "metadata": {},
   "outputs": [
    {
     "ename": "NameError",
     "evalue": "name 'fig' is not defined",
     "output_type": "error",
     "traceback": [
      "\u001b[0;31m--------------------------------------------------------\u001b[0m",
      "\u001b[0;31mNameError\u001b[0m              Traceback (most recent call last)",
      "\u001b[0;32m<ipython-input-6-f93704cf6b92>\u001b[0m in \u001b[0;36m<module>\u001b[0;34m\u001b[0m\n\u001b[0;32m----> 1\u001b[0;31m \u001b[0mani\u001b[0m \u001b[0;34m=\u001b[0m \u001b[0mFuncAnimation\u001b[0m\u001b[0;34m(\u001b[0m\u001b[0mfig\u001b[0m\u001b[0;34m,\u001b[0m \u001b[0mupdate\u001b[0m\u001b[0;34m,\u001b[0m \u001b[0mframes\u001b[0m\u001b[0;34m=\u001b[0m\u001b[0;32mNone\u001b[0m\u001b[0;34m)\u001b[0m\u001b[0;34m\u001b[0m\u001b[0;34m\u001b[0m\u001b[0m\n\u001b[0m\u001b[1;32m      2\u001b[0m \u001b[0mplt\u001b[0m\u001b[0;34m.\u001b[0m\u001b[0mshow\u001b[0m\u001b[0;34m(\u001b[0m\u001b[0;34m)\u001b[0m\u001b[0;34m\u001b[0m\u001b[0;34m\u001b[0m\u001b[0m\n",
      "\u001b[0;31mNameError\u001b[0m: name 'fig' is not defined"
     ]
    }
   ],
   "source": [
    "ani = FuncAnimation(fig, update, frames=None)\n",
    "plt.show()"
   ]
  },
  {
   "cell_type": "code",
   "execution_count": null,
   "metadata": {},
   "outputs": [],
   "source": []
  }
 ],
 "metadata": {
  "kernelspec": {
   "display_name": "Python 3",
   "language": "python",
   "name": "python3"
  },
  "language_info": {
   "codemirror_mode": {
    "name": "ipython",
    "version": 3
   },
   "file_extension": ".py",
   "mimetype": "text/x-python",
   "name": "python",
   "nbconvert_exporter": "python",
   "pygments_lexer": "ipython3",
   "version": "3.7.4"
  }
 },
 "nbformat": 4,
 "nbformat_minor": 2
}
